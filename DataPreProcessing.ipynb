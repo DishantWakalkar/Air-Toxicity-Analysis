{
 "cells": [
  {
   "cell_type": "code",
   "execution_count": null,
   "metadata": {},
   "outputs": [],
   "source": [
    "import pandas as pd\n",
    "import numpy as np  "
   ]
  },
  {
   "cell_type": "code",
   "execution_count": null,
   "metadata": {},
   "outputs": [],
   "source": [
    "kurlamain = pd.read_csv('Data\\Kurla_dataset.csv')\n",
    "airportmain = pd.read_csv('Data\\Airport_dataset.csv')\n",
    "chakalamain = pd.read_csv('Data\\Chakala_dataset.csv')"
   ]
  },
  {
   "cell_type": "code",
   "execution_count": 128,
   "metadata": {},
   "outputs": [
    {
     "name": "stdout",
     "output_type": "stream",
     "text": [
      "              From Date           To Date   PM2.5    PM10     NO         NO2  \\\n",
      "0      17-03-2021 00:00  17-03-2021 01:00  137.96  272.00   7.97  129.990000   \n",
      "1      17-03-2021 01:00  17-03-2021 02:00  111.31  272.00   7.97   94.086667   \n",
      "2      17-03-2021 02:00  17-03-2021 03:00   49.00  272.00   7.97   58.183333   \n",
      "3      17-03-2021 03:00  17-03-2021 04:00   32.83  272.00   7.97   22.280000   \n",
      "4      17-03-2021 04:00  17-03-2021 05:00   50.19  272.00  17.54   42.045000   \n",
      "...                 ...               ...     ...     ...    ...         ...   \n",
      "17559  18-03-2023 15:00  18-03-2023 16:00   14.93  217.88  10.18   25.750000   \n",
      "17560  18-03-2023 16:00  18-03-2023 17:00   17.07  250.22  12.90   24.920000   \n",
      "17561  18-03-2023 17:00  18-03-2023 18:00   12.36  236.92  10.55   22.700000   \n",
      "17562  18-03-2023 18:00  18-03-2023 19:00   13.25  189.68  10.98   24.550000   \n",
      "17563  18-03-2023 19:00  18-03-2023 19:08   13.25  189.68  10.98   24.550000   \n",
      "\n",
      "          SO2     CO   Ozone         RH        WS          WD         AT  \n",
      "0      73.270  2.320   3.470  44.770000  0.820000  236.970000  25.740000  \n",
      "1      67.162  1.908   3.566  50.273333  0.846667  219.323333  25.523333  \n",
      "2      61.054  1.496   3.662  55.776667  0.873333  201.676667  25.306667  \n",
      "3      54.946  1.084   3.758  61.280000  0.900000  184.030000  25.090000  \n",
      "4      48.838  0.672   3.854  60.695000  0.815000  151.750000  24.715000  \n",
      "...       ...    ...     ...        ...       ...         ...        ...  \n",
      "17559  25.550  0.330  49.060  62.990000  2.590000  231.420000  32.500000  \n",
      "17560  25.540  0.260  44.690  66.230000  2.860000  242.130000  31.920000  \n",
      "17561  25.560  0.230  48.020  70.650000  2.540000  243.530000  31.170000  \n",
      "17562  25.550  0.250  43.670  77.600000  2.050000  244.630000  30.360000  \n",
      "17563  25.550  0.250  43.670  77.600000  2.050000  244.630000  30.360000  \n",
      "\n",
      "[17564 rows x 13 columns]              From Date           To Date   PM2.5    PM10      NO    NO2  \\\n",
      "0      17-03-2021 00:00  17-03-2021 01:00  101.24  429.09  246.44  28.04   \n",
      "1      17-03-2021 01:00  17-03-2021 02:00   91.22  394.22  175.60  15.24   \n",
      "2      17-03-2021 02:00  17-03-2021 03:00   37.07  167.11  146.64   9.93   \n",
      "3      17-03-2021 03:00  17-03-2021 04:00   37.95  129.33  128.77   9.23   \n",
      "4      17-03-2021 04:00  17-03-2021 05:00   35.06  144.67  114.89  11.63   \n",
      "...                 ...               ...     ...     ...     ...    ...   \n",
      "17532  17-03-2023 12:00  17-03-2023 13:00   25.70  110.58   67.62  48.20   \n",
      "17533  17-03-2023 13:00  17-03-2023 14:00   21.88  107.47   63.57  49.73   \n",
      "17534  17-03-2023 14:00  17-03-2023 15:00   25.43  139.15   46.97  42.34   \n",
      "17535  17-03-2023 15:00  17-03-2023 16:00   26.56  100.60   44.68  39.01   \n",
      "17536  17-03-2023 16:00  17-03-2023 16:48   25.88   95.47   41.78  42.17   \n",
      "\n",
      "        SO2    CO  Ozone     RH    WS      WD     AT  \n",
      "0      8.45  2.14   5.99  53.67  0.55  254.73  28.03  \n",
      "1      7.25  1.64  16.93  69.27  0.82  289.63  27.62  \n",
      "2      4.58  1.34  31.58  75.85  0.82  251.97  27.07  \n",
      "3      6.04  1.23  35.86  71.35  0.67  139.85  26.80  \n",
      "4      5.24  1.09  12.45  59.59  0.42  251.75  26.72  \n",
      "...     ...   ...    ...    ...   ...     ...    ...  \n",
      "17532  8.39  1.26  23.91  54.96  1.75  186.31  31.80  \n",
      "17533  9.09  1.24  23.71  58.73  1.01  273.52  32.49  \n",
      "17534  8.57  1.35  23.89  61.13  1.08  281.31  31.86  \n",
      "17535  8.59  1.20  23.70  61.51  0.92  271.54  32.06  \n",
      "17536  8.14  1.25  23.89  62.02  0.92  282.19  31.40  \n",
      "\n",
      "[17537 rows x 13 columns]\n"
     ]
    }
   ],
   "source": [
    "print(kurlamain,end='')\n",
    "print(airportmain)"
   ]
  },
  {
   "cell_type": "code",
   "execution_count": null,
   "metadata": {},
   "outputs": [],
   "source": [
    "kurlamain.replace('None', np.nan, inplace=True)\n",
    "kurlamain\n",
    "airportmain.replace('None', np.nan, inplace=True)\n",
    "airportmain\n",
    "chakalamain.replace('None', np.nan, inplace=True)\n",
    "chakalamain"
   ]
  },
  {
   "attachments": {},
   "cell_type": "markdown",
   "metadata": {},
   "source": []
  },
  {
   "cell_type": "code",
   "execution_count": null,
   "metadata": {},
   "outputs": [],
   "source": [
    "kurlafilled=kurlamain.fillna(method='ffill', inplace=False)\n",
    "kurlafilled=kurlamain.fillna(method='bfill', inplace=False)\n",
    "kurlafilled\n",
    "airportfilled=airportmain.fillna(method='ffill', inplace=False)\n",
    "airportfilled=airportmain.fillna(method='bfill', inplace=False)\n",
    "airportfilled\n",
    "chakalafilled=kurlamain.fillna(method='ffill', inplace=False)\n",
    "chakalafilled=kurlamain.fillna(method='bfill', inplace=False)\n",
    "chakalafilled"
   ]
  },
  {
   "cell_type": "code",
   "execution_count": null,
   "metadata": {},
   "outputs": [],
   "source": [
    "kurlainter = kurlamain\n",
    "kurlainter[['PM2.5','PM10','NO','NO2','SO2','CO','Ozone','RH','WS','WD','AT']]= kurlainter[['PM2.5','PM10','NO','NO2','SO2','CO','Ozone','RH','WS','WD','AT']].astype(float)\n",
    "kurlainter[['PM2.5','PM10','NO','NO2','SO2','CO','Ozone','RH','WS','WD','AT']]= kurlainter[['PM2.5','PM10','NO','NO2','SO2','CO','Ozone','RH','WS','WD','AT']].interpolate(method ='linear', limit_direction ='both')\n",
    "kurlainter"
   ]
  },
  {
   "cell_type": "code",
   "execution_count": null,
   "metadata": {},
   "outputs": [],
   "source": [
    "airportinter = airportmain\n",
    "airportinter[['PM2.5','PM10','NO','NO2','SO2','CO','Ozone','RH','WS','WD','AT']]= airportinter[['PM2.5','PM10','NO','NO2','SO2','CO','Ozone','RH','WS','WD','AT']].astype(float)\n",
    "airportinter[['PM2.5','PM10','NO','NO2','SO2','CO','Ozone','RH','WS','WD','AT']]= airportinter[['PM2.5','PM10','NO','NO2','SO2','CO','Ozone','RH','WS','WD','AT']].interpolate(method ='linear', limit_direction ='both')\n",
    "airportinter"
   ]
  },
  {
   "cell_type": "code",
   "execution_count": null,
   "metadata": {},
   "outputs": [],
   "source": [
    "chakalainter = chakalamain\n",
    "chakalainter[['PM2.5','PM10','NO','NO2','SO2','CO','Ozone','RH','WS','WD','Temp']]= chakalainter[['PM2.5','PM10','NO','NO2','SO2','CO','Ozone','RH','WS','WD','Temp']].astype(float)\n",
    "chakalainter[['PM2.5','PM10','NO','NO2','SO2','CO','Ozone','RH','WS','WD','Temp']]= chakalainter[['PM2.5','PM10','NO','NO2','SO2','CO','Ozone','RH','WS','WD','Temp']].interpolate(method ='linear', limit_direction ='both')\n",
    "chakalainter"
   ]
  }
 ],
 "metadata": {
  "kernelspec": {
   "display_name": "Python 3",
   "language": "python",
   "name": "python3"
  },
  "language_info": {
   "codemirror_mode": {
    "name": "ipython",
    "version": 3
   },
   "file_extension": ".py",
   "mimetype": "text/x-python",
   "name": "python",
   "nbconvert_exporter": "python",
   "pygments_lexer": "ipython3",
   "version": "3.9.10"
  },
  "orig_nbformat": 4
 },
 "nbformat": 4,
 "nbformat_minor": 2
}
