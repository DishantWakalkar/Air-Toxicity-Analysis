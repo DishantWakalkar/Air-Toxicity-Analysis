{
 "cells": [
  {
   "cell_type": "code",
   "execution_count": null,
   "metadata": {},
   "outputs": [],
   "source": [
    "import pandas as pd\n",
    "import numpy as np  "
   ]
  },
  {
   "cell_type": "code",
   "execution_count": null,
   "metadata": {},
   "outputs": [],
   "source": [
    "kurlamain = pd.read_csv('Data\\Kurla_dataset.csv')\n",
    "airportmain = pd.read_csv('Data\\Airport_dataset.csv')\n",
    "chakalamain = pd.read_csv('Data\\Chakala_dataset.csv')"
   ]
  },
  {
   "cell_type": "code",
   "execution_count": null,
   "metadata": {},
   "outputs": [],
   "source": [
    "display(kurlamain)\n",
    "display(airportmain)\n",
    "display(chakalamain)"
   ]
  },
  {
   "cell_type": "code",
   "execution_count": null,
   "metadata": {},
   "outputs": [],
   "source": [
    "kurlamain.replace('None', np.nan, inplace=True)\n",
    "kurlamain\n",
    "airportmain.replace('None', np.nan, inplace=True)\n",
    "airportmain\n",
    "chakalamain.replace('None', np.nan, inplace=True)\n",
    "chakalamain"
   ]
  },
  {
   "attachments": {},
   "cell_type": "markdown",
   "metadata": {},
   "source": [
    "Processing the missing data with \"bfill\" & \"ffill\""
   ]
  },
  {
   "cell_type": "code",
   "execution_count": null,
   "metadata": {},
   "outputs": [],
   "source": [
    "kurlafilled=kurlamain.fillna(method='ffill', inplace=False)\n",
    "kurlafilled=kurlamain.fillna(method='bfill', inplace=False)\n",
    "kurlafilled\n",
    "airportfilled=airportmain.fillna(method='ffill', inplace=False)\n",
    "airportfilled=airportmain.fillna(method='bfill', inplace=False)\n",
    "airportfilled\n",
    "chakalafilled=kurlamain.fillna(method='ffill', inplace=False)\n",
    "chakalafilled=kurlamain.fillna(method='bfill', inplace=False)\n",
    "chakalafilled"
   ]
  },
  {
   "attachments": {},
   "cell_type": "markdown",
   "metadata": {},
   "source": [
    "Processing the missing data with Interpolate"
   ]
  },
  {
   "cell_type": "code",
   "execution_count": null,
   "metadata": {},
   "outputs": [],
   "source": [
    "kurlainter = kurlamain\n",
    "kurlainter[['PM2.5','PM10','NO','NO2','SO2','CO','Ozone','RH','WS','WD','AT']]= kurlainter[['PM2.5','PM10','NO','NO2','SO2','CO','Ozone','RH','WS','WD','AT']].astype(float)\n",
    "kurlainter[['PM2.5','PM10','NO','NO2','SO2','CO','Ozone','RH','WS','WD','AT']]= kurlainter[['PM2.5','PM10','NO','NO2','SO2','CO','Ozone','RH','WS','WD','AT']].interpolate(method ='linear', limit_direction ='both')\n",
    "kurlainter"
   ]
  },
  {
   "cell_type": "code",
   "execution_count": null,
   "metadata": {},
   "outputs": [],
   "source": [
    "airportinter = airportmain\n",
    "airportinter[['PM2.5','PM10','NO','NO2','SO2','CO','Ozone','RH','WS','WD','AT']]= airportinter[['PM2.5','PM10','NO','NO2','SO2','CO','Ozone','RH','WS','WD','AT']].astype(float)\n",
    "airportinter[['PM2.5','PM10','NO','NO2','SO2','CO','Ozone','RH','WS','WD','AT']]= airportinter[['PM2.5','PM10','NO','NO2','SO2','CO','Ozone','RH','WS','WD','AT']].interpolate(method ='linear', limit_direction ='both')\n",
    "airportinter"
   ]
  },
  {
   "cell_type": "code",
   "execution_count": null,
   "metadata": {},
   "outputs": [],
   "source": [
    "chakalainter = chakalamain\n",
    "chakalainter[['PM2.5','PM10','NO','NO2','SO2','CO','Ozone','RH','WS','WD','Temp']]= chakalainter[['PM2.5','PM10','NO','NO2','SO2','CO','Ozone','RH','WS','WD','Temp']].astype(float)\n",
    "chakalainter[['PM2.5','PM10','NO','NO2','SO2','CO','Ozone','RH','WS','WD','Temp']]= chakalainter[['PM2.5','PM10','NO','NO2','SO2','CO','Ozone','RH','WS','WD','Temp']].interpolate(method ='linear', limit_direction ='both')\n",
    "chakalainter "
   ]
  },
  {
   "cell_type": "code",
   "execution_count": null,
   "metadata": {},
   "outputs": [],
   "source": [
    "kurlastd = kurlafilled\n",
    "def determine_outlier_thresholds_std(dataframe, col_name):\n",
    "    upper_boundary = dataframe[col_name].mean() + 3 * dataframe[col_name].std()\n",
    "    lower_boundary = dataframe[col_name].mean() - 3 * dataframe[col_name].std()\n",
    "    return lower_boundary, upper_boundary\n",
    "def check_outliers_std(dataframe, col_name):\n",
    "    lower_boundary, upper_boundary = determine_outlier_thresholds_std(dataframe, col_name)\n",
    "    if dataframe[(dataframe[col_name] > upper_boundary) | (dataframe[col_name] < lower_boundary)].any(axis=None):\n",
    "        return True\n",
    "    else: \n",
    "        return False\n",
    "\n",
    "def replace_with_thresholds_std(dataframe, cols, replace=False):\n",
    "    from tabulate import tabulate\n",
    "    data = []\n",
    "    for col_name in cols:\n",
    "        if col_name != 'Outcome':\n",
    "            outliers_ = check_outliers_std(dataframe, col_name)\n",
    "            count = None\n",
    "            lower_limit, upper_limit = determine_outlier_thresholds_std(dataframe, col_name)\n",
    "            if outliers_:\n",
    "                count = dataframe[(dataframe[col_name] > upper_limit) | (dataframe[col_name] < lower_limit)][col_name].count()\n",
    "                if replace:\n",
    "                    if lower_limit < 0:\n",
    "                        # We don't want to replace with negative values, right!\n",
    "                        dataframe.loc[(dataframe[col_name] > upper_limit), col_name] = upper_limit\n",
    "                    else:\n",
    "                        dataframe.loc[(dataframe[col_name] < lower_limit), col_name] = lower_limit\n",
    "                        dataframe.loc[(dataframe[col_name] > upper_limit), col_name] = upper_limit\n",
    "            outliers_status = check_outliers_std(dataframe, col_name)\n",
    "            data.append([outliers_, outliers_status,count, col_name, lower_limit, upper_limit])\n",
    "    table = tabulate(data, headers=['Outlier (Previously)','Outliers','Count', 'Column','Lower Limit', 'Upper Limit'], tablefmt='rst', numalign='right')\n",
    "    print(\"Removing Outliers using 3 Standard Deviation\")\n",
    "    print(table)\n",
    "\n",
    "replace_with_thresholds_std(kurlastd, kurlastd.columns,replace=False)"
   ]
  },
  {
   "cell_type": "code",
   "execution_count": null,
   "metadata": {},
   "outputs": [],
   "source": [
    "kurlafilled[['PM2.5','PM10','NO','NO2','SO2','CO','Ozone','RH','WS','WD','AT']]=kurlafilled[['PM2.5','PM10','NO','NO2','SO2','CO','Ozone','RH','WS','WD','AT']].astype(float)\n",
    "kurlaiqr = kurlafilled\n",
    "kurlaiqr.drop(kurlaiqr.columns[[0,1]], axis=1, inplace=True)\n",
    "kurlaiqr = kurlaiqr.apply(pd.to_numeric, errors='coerce')\n"
   ]
  },
  {
   "cell_type": "code",
   "execution_count": null,
   "metadata": {},
   "outputs": [],
   "source": [
    "def determine_outlier_thresholds_iqr(dataframe, col_name, th1=0.25, th3=0.75):\n",
    "    quartile1 = dataframe[col_name].quantile(th1)\n",
    "    quartile3 = dataframe[col_name].quantile(th3)\n",
    "    iqr = quartile3 - quartile1\n",
    "    upper_limit = quartile3 + 1.5 * iqr\n",
    "    lower_limit = quartile1 - 1.5 * iqr\n",
    "    return lower_limit, upper_limit\n",
    "\n",
    "def check_outliers_iqr(dataframe, col_name):\n",
    "    lower_limit, upper_limit = determine_outlier_thresholds_iqr(dataframe, col_name)\n",
    "    if dataframe[(dataframe[col_name] > upper_limit) | (dataframe[col_name] < lower_limit)].any(axis=None):\n",
    "        return True\n",
    "    else: \n",
    "        return False\n",
    "\n",
    "def replace_with_thresholds_iqr(dataframe,cols, th1=0.05, th3=0.95, replace=False):\n",
    "    from tabulate import tabulate\n",
    "    data = []\n",
    "    for col_name in cols:\n",
    "        if col_name != 'Outcome':\n",
    "            outliers_ = check_outliers_iqr(dataframe,col_name)\n",
    "            count = None\n",
    "            lower_limit, upper_limit = determine_outlier_thresholds_iqr(dataframe, col_name, th1, th3)\n",
    "            if outliers_:\n",
    "                count = dataframe[(dataframe[col_name] > upper_limit) | (dataframe[col_name] < lower_limit)][cols].count()\n",
    "                if replace: \n",
    "                    if lower_limit < 0:\n",
    "                        # We don't want to replace with negative values, right!\n",
    "                        dataframe.loc[(dataframe[col_name] > upper_limit), col_name] = upper_limit\n",
    "                    else:\n",
    "                        dataframe.loc[(dataframe[col_name] < lower_limit), col_name] = lower_limit\n",
    "                        dataframe.loc[(dataframe[col_name] > upper_limit), col_name] = upper_limit\n",
    "            outliers_status = check_outliers_iqr(dataframe, col_name)\n",
    "            data.append([outliers_, outliers_status, count, col_name, lower_limit, upper_limit ])\n",
    "    table = tabulate(data, headers=['Outliers (Previously)', 'Outliers', 'Count', 'Column', 'Lower Limit', 'Upper Limit'], tablefmt='rst', numalign='right')\n",
    "    print(\"Removing Outliers using IQR\")\n",
    "    print(table)\n",
    "\n",
    "replace_with_thresholds_iqr(kurlaiqr, kurlaiqr.columns)\n",
    "# check_outliers_iqr(filled1, 'PM2.5')"
   ]
  },
  {
   "cell_type": "code",
   "execution_count": null,
   "metadata": {},
   "outputs": [],
   "source": []
  }
 ],
 "metadata": {
  "kernelspec": {
   "display_name": "Python 3",
   "language": "python",
   "name": "python3"
  },
  "language_info": {
   "codemirror_mode": {
    "name": "ipython",
    "version": 3
   },
   "file_extension": ".py",
   "mimetype": "text/x-python",
   "name": "python",
   "nbconvert_exporter": "python",
   "pygments_lexer": "ipython3",
   "version": "3.9.10"
  },
  "orig_nbformat": 4
 },
 "nbformat": 4,
 "nbformat_minor": 2
}
