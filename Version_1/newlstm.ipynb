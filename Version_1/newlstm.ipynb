{
 "cells": [
  {
   "cell_type": "code",
   "execution_count": 4,
   "metadata": {},
   "outputs": [
    {
     "name": "stdout",
     "output_type": "stream",
     "text": [
      "220/220 [==============================] - 20s 68ms/step - loss: 0.0108\n",
      "109/109 [==============================] - 3s 14ms/step\n",
      "RMSE: 20.002583819500494\n"
     ]
    },
    {
     "data": {
      "image/png": "[encoded data removed]",
      "text/plain": [
       "<Figure size 432x288 with 1 Axes>"
      ]
     },
     "metadata": {
      "needs_background": "light"
     },
     "output_type": "display_data"
    }
   ],
   "source": [
    "import numpy as np\n",
    "import pandas as pd\n",
    "import math\n",
    "import matplotlib.pyplot as plt\n",
    "from sklearn.preprocessing import MinMaxScaler\n",
    "from sklearn.metrics import mean_squared_error\n",
    "from keras.models import Sequential\n",
    "from keras.layers import LSTM, Dense, Dropout\n",
    "\n",
    "# Load the dataset\n",
    "df = pd.read_csv('Data/kurla_cleaned.csv')\n",
    "# df=df.drop(df[['Date']],axis=1)\n",
    "# Select the feature to be predicted\n",
    "target_col = 'PM2.5'\n",
    "\n",
    "# Normalize the dataset\n",
    "scaler = MinMaxScaler()\n",
    "scaled_data = scaler.fit_transform(df[target_col].values.reshape(-1, 1))\n",
    "\n",
    "# Split the dataset into train and test sets\n",
    "train_size = int(len(scaled_data) * 0.8)\n",
    "train_data = scaled_data[:train_size, :]\n",
    "test_data = scaled_data[train_size:, :]\n",
    "\n",
    "# Create the input and output sequences for the LSTM model\n",
    "def create_dataset(data, lookback):\n",
    "    X, y = [], []\n",
    "    for i in range(len(data)-lookback-1):\n",
    "        X.append(data[i:(i+lookback), 0])\n",
    "        y.append(data[(i+lookback), 0])\n",
    "    return np.array(X), np.array(y)\n",
    "\n",
    "lookback = 24 # number of hours to look back\n",
    "X_train, y_train = create_dataset(train_data, lookback)\n",
    "X_test, y_test = create_dataset(test_data, lookback)\n",
    "\n",
    "# Reshape the input sequences for LSTM model\n",
    "X_train = np.reshape(X_train, (X_train.shape[0], X_train.shape[1], 1))\n",
    "X_test = np.reshape(X_test, (X_test.shape[0], X_test.shape[1], 1))\n",
    "\n",
    "# Define the LSTM model\n",
    "model = Sequential()\n",
    "model.add(LSTM(units=50, return_sequences=True, input_shape=(X_train.shape[1], 1)))\n",
    "model.add(Dropout(0.2))\n",
    "model.add(LSTM(units=50, return_sequences=True))\n",
    "model.add(Dropout(0.2))\n",
    "model.add(LSTM(units=50))\n",
    "model.add(Dropout(0.2))\n",
    "model.add(Dense(units=1))\n",
    "\n",
    "# Compile the model\n",
    "model.compile(optimizer='adam', loss='mean_squared_error')\n",
    "\n",
    "# Train the model\n",
    "model.fit(X_train, y_train, epochs=1, batch_size=64)\n",
    "\n",
    "# Predict the PM2.5 levels for the test set\n",
    "y_pred = model.predict(X_test)\n",
    "y_pred = scaler.inverse_transform(y_pred)\n",
    "y_test = scaler.inverse_transform(y_test.reshape(-1, 1))\n",
    "\n",
    "\n",
    "rmse = math.sqrt(mean_squared_error(y_test, y_pred))\n",
    "\n",
    "print(\"RMSE:\", rmse)\n",
    "\n",
    "# Plot the predicted vs actual PM2.5 levels\n",
    "# import matplotlib.pyplot as plt\n",
    "\n",
    "# plt.plot(y_test, label='Actual')\n",
    "# plt.plot(y_pred, label='Predicted')\n",
    "\n",
    "# plt.legend()\n",
    "# fig, ax = plt.subplots(figsize=(10, 5))\n",
    "\n",
    "# ax.plot(y_test[3000:3500], label='Actual')\n",
    "# ax.plot(y_pred[3000:3500], label='Predicted')\n",
    "# ax.set_xlim(400, 500)  # set x-axis limit to show only the first 100 data points\n",
    "\n",
    "# ax.set_xlabel('Hours')\n",
    "# ax.set_ylabel('PM2.5 levels')\n",
    "# ax.legend()\n",
    "# plt.show()"
   ]
  },
  {
   "cell_type": "code",
   "execution_count": 7,
   "metadata": {},
   "outputs": [
    {
     "name": "stdout",
     "output_type": "stream",
     "text": [
      "Epoch 1/5\n",
      "247/247 - 13s - loss: 0.0291 - val_loss: 0.0327 - 13s/epoch - 51ms/step\n",
      "Epoch 2/5\n",
      "247/247 - 6s - loss: 0.0199 - val_loss: 0.0224 - 6s/epoch - 22ms/step\n",
      "Epoch 3/5\n",
      "247/247 - 5s - loss: 0.0154 - val_loss: 0.0185 - 5s/epoch - 22ms/step\n",
      "Epoch 4/5\n",
      "247/247 - 6s - loss: 0.0124 - val_loss: 0.0169 - 6s/epoch - 22ms/step\n",
      "Epoch 5/5\n",
      "247/247 - 6s - loss: 0.0103 - val_loss: 0.0160 - 6s/epoch - 23ms/step\n"
     ]
    }
   ],
   "source": [
    "import pandas as pd\n",
    "import numpy as np\n",
    "import matplotlib.pyplot as plt\n",
    "from sklearn.preprocessing import MinMaxScaler\n",
    "from sklearn.metrics import mean_squared_error\n",
    "from keras.models import Sequential\n",
    "from keras.layers import LSTM, Dense\n",
    "\n",
    "\n",
    "data = pd.read_csv('kurla_cleaned.csv', parse_dates=['Date'], index_col='Date')\n",
    "scaler = MinMaxScaler()\n",
    "scaled_data = scaler.fit_transform(data)\n",
    "# Split data into training and test sets\n",
    "train_size = int(len(scaled_data) * 0.90)\n",
    "train, test = scaled_data[:train_size], scaled_data[train_size:]\n",
    "# Function to create input-output pairs for LSTM model\n",
    "def create_dataset(dataset, look_back=1):\n",
    "    dataX, dataY = [], []\n",
    "    for i in range(len(dataset) - look_back):\n",
    "        dataX.append(dataset[i:(i + look_back)])\n",
    "        dataY.append(dataset[i + look_back])\n",
    "    return np.array(dataX), np.array(dataY)\n",
    "look_back = 24\n",
    "X_train, y_train = create_dataset(train, look_back)\n",
    "X_test, y_test = create_dataset(test, look_back)\n",
    "# Reshape input to be [samples, time steps, features]\n",
    "X_train = np.reshape(X_train, (X_train.shape[0], X_train.shape[1], 12))\n",
    "X_test = np.reshape(X_test, (X_test.shape[0], X_test.shape[1], 12))\n",
    "# Create LSTM model\n",
    "model = Sequential()\n",
    "model.add(LSTM(50, input_shape=(look_back, 12)))\n",
    "model.add(Dense(12))\n",
    "model.compile(loss='mean_squared_error', optimizer='adam')\n",
    "# Train the model\n",
    "history = model.fit(X_train, y_train, epochs=5, batch_size=64, validation_data=(X_test, y_test), verbose=2, shuffle=False)\n"
   ]
  },
  {
   "cell_type": "code",
   "execution_count": null,
   "metadata": {},
   "outputs": [],
   "source": []
  }
 ],
 "metadata": {
  "kernelspec": {
   "display_name": "Python 3",
   "language": "python",
   "name": "python3"
  },
  "language_info": {
   "codemirror_mode": {
    "name": "ipython",
    "version": 3
   },
   "file_extension": ".py",
   "mimetype": "text/x-python",
   "name": "python",
   "nbconvert_exporter": "python",
   "pygments_lexer": "ipython3",
   "version": "3.9.10"
  },
  "orig_nbformat": 4
 },
 "nbformat": 4,
 "nbformat_minor": 2
}
